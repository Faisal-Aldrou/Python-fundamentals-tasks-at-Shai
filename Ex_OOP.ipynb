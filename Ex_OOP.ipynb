{
  "cells": [
    {
      "cell_type": "markdown",
      "metadata": {
        "id": "jw2vWAL1Dqy2"
      },
      "source": [
        "# OOP Exercises\n",
        "**By: Mhd Shadi Hasan**\n",
        "\n",
        "**Task 1:** Create a parent class `Shape` with a method `area` that returns 0. Then, create two child classes, `Rectangle` and `Circle`. `Rectangle` has attributes `width` and `height`, `Circle` has an attribute `radius`. Override the `area` method in both child classes to calculate the area correctly (use 3.14 as an approximation for pi).\n",
        "\n",
        "**Task 2:** Expand on the previous task. Add a method `print_info` to the `Shape` class that prints out the type of shape and its area. For each child class, override this method to print the shape type (rectangle or circle), its specific attributes (width and height for rectangles, radius for circles), and its area.\n",
        "\n",
        "**Task 3:** Create a class `BankAccount` with private attributes `__account_number` and `__balance`. Provide getter methods for both (get_account_number, get_balance), and methods to deposit and withdraw money. Ensure that the `withdraw` method checks if there is enough balance before withdrawing.\n",
        "\n",
        "**Task 4:** Create a base class `Animal` that has a method `speak()` which prints `\"I don't know what I say!\"`. Then create two derived classes `Dog` and `Cat` which override the `speak()` method. The `speak()` method in the `Dog` class should print `\"Woof Woof!\"` and the `speak()` method in the `Cat` class should print `\"Meow Meow!\"`.\n",
        "\n",
        "**Task 5:** Continuing from the above task, create a function `animal_speak(animal)` which accepts an `Animal` object and calls its `speak()` method. This demonstrates polymorphism because you can pass any object of a class derived from `Animal` to this function and it will work.\n",
        "\n",
        "**Task 6:** Create a class `Car` with two attributes: `color` (public) and `__speed` (private). The class should have methods `accelerate()` which increases the speed by 10 and `get_speed()` which returns the current speed. The `__speed` attribute should be modified only through the `accelerate()` method, demonstrating the principle of encapsulation.\n",
        "\n",
        "***\n",
        "\n",
        "**P.S. ALL CODE MUST BE CLEAN, READABLE, WELL EXPLAINED, AND FOLLOWS THE PEP 8 STYLE GUIDE.**\n",
        "\n",
        "Happy coding!!"
      ]
    },
    {
      "cell_type": "code",
      "execution_count": null,
      "metadata": {
        "id": "TiHOrRm_DkDD"
      },
      "outputs": [
        {
          "name": "stdout",
          "output_type": "stream",
          "text": [
            "Area of rectangle:  24\n",
            "Area of cirle:  28.26\n",
            "this is a circle with 3 radius and area 28.26\n",
            "this is a rectangle with 12 width and 2 height and area 24\n"
          ]
        }
      ],
      "source": [
        "class Shape:\n",
        "    def area(self):\n",
        "        return 0\n",
        "    def print_info(self):\n",
        "        pass\n",
        "    \n",
        "\n",
        "class Rectangle(Shape):\n",
        "    def __init__(self,width, height):\n",
        "        self.width = width \n",
        "        self.height = height \n",
        "\n",
        "    def area(self):\n",
        "        return  self.width * self.height \n",
        "        \n",
        "    def print_info(self):\n",
        "        print(f\"this is a rectangle with {self.width} width and {self.height} height and area {self.area()}\")\n",
        "\n",
        "\n",
        "class Circle(Shape):\n",
        "    def __init__(self, radius):\n",
        "        self.radius = radius\n",
        "        \n",
        "    def area(self):\n",
        "        return 3.14 * (self.radius ** 2)\n",
        "    def print_info(self):\n",
        "        print(f\"this is a circle with {self.radius} radius and area {self.area()}\")\n",
        "        \n",
        "print(\"Area of rectangle: \", Rectangle(12, 2).area())\n",
        "print(\"Area of cirle: \",Circle(3).area())\n",
        "Circle.print_info(Circle(3))\n",
        "Rectangle.print_info(Rectangle(12, 2))  \n",
        "\n"
      ]
    },
    {
      "cell_type": "markdown",
      "metadata": {},
      "source": [
        "    **Task 3:** Create a class `BankAccount` with private attributes `__account_number` and `__balance`. Provide getter methods for both (get_account_number, get_balance), and methods to deposit and withdraw money. Ensure that the `withdraw` method checks if there is enough balance before withdrawing."
      ]
    },
    {
      "cell_type": "code",
      "execution_count": null,
      "metadata": {},
      "outputs": [
        {
          "name": "stdout",
          "output_type": "stream",
          "text": [
            "inital balance: 100\n",
            "Deposited: 3000.0\n",
            "withdrew: 300.0\n"
          ]
        },
        {
          "data": {
            "text/plain": [
              "2800.0"
            ]
          },
          "execution_count": 27,
          "metadata": {},
          "output_type": "execute_result"
        }
      ],
      "source": [
        "class BankAccount:\n",
        "    def __init__(self, account_number, balance=100):\n",
        "        self.__account_number = account_number\n",
        "        self.__balance = balance\n",
        "\n",
        "    def get_account_number(self):\n",
        "      return self.__account_number\n",
        "    \n",
        "    def get_balance(self):   \n",
        "        return self.__balance\n",
        "    \n",
        "    def deposit(self):\n",
        "\n",
        "        amount = float(input(\"Enter the amount to deposit: \"))\n",
        "\n",
        "        self.__balance += amount\n",
        "        print(f\"Deposited: {amount}\")\n",
        "    \n",
        "       \n",
        "    def withdraw(self):\n",
        "\n",
        "        amount = float(input(\"Enter the amount you want to withdraw\"))\n",
        "    \n",
        "        if (amount > self.__balance):\n",
        "         print(\"Insufficent balance\")\n",
        "        else:\n",
        "         self.__balance -= amount\n",
        "         print(f\"withdrew: {amount}\")\n",
        "        \n",
        "\n",
        "my_account = BankAccount(32432)\n",
        "print(f\"inital balance: {my_account.get_balance()}\")\n",
        "\n",
        "my_account.deposit()\n",
        "my_account.withdraw()\n",
        "my_account.get_balance()\n",
        "\n",
        "    "
      ]
    },
    {
      "cell_type": "markdown",
      "metadata": {},
      "source": [
        "**Task 4:** Create a base class `Animal` that has a method `speak()` which prints `\"I don't know what I say!\"`. Then create two derived classes `Dog` and `Cat` which override the `speak()` method. The `speak()` method in the `Dog` class should print `\"Woof Woof!\"` and the `speak()` method in the `Cat` class should print `\"Meow Meow!\"`.\n"
      ]
    },
    {
      "cell_type": "code",
      "execution_count": 57,
      "metadata": {},
      "outputs": [
        {
          "name": "stdout",
          "output_type": "stream",
          "text": [
            "Woof Woof!\n",
            "Meow Meow!\n",
            "I don't know what I say!\n"
          ]
        }
      ],
      "source": [
        "class Animal:\n",
        "    def speak(self):\n",
        "        print(\"I don't know what I say!\")\n",
        "class Dog(Animal):\n",
        "    def speak(self):        \n",
        "        print(\"Woof Woof!\")\n",
        "class Cat(Animal):\n",
        "    def speak(self):\n",
        "        print(\"Meow Meow!\")\n",
        "\n",
        "def animal_speak(animal):\n",
        " animal.speak()\n",
        "\n",
        "bob = Dog()\n",
        "lulu = Cat()\n",
        "animal = Animal()\n",
        "animal_speak(bob)\n",
        "animal_speak(lulu)\n",
        "animal_speak(animal)\n"
      ]
    },
    {
      "cell_type": "markdown",
      "metadata": {},
      "source": [
        "**Task 6:** Create a class `Car` with two attributes: `color` (public) and `__speed` (private). The class should have methods `accelerate()` which increases the speed by 10 and `get_speed()` which returns the current speed. The `__speed` attribute should be modified only through the `accelerate()` method, demonstrating the principle of encapsulation.\n"
      ]
    },
    {
      "cell_type": "code",
      "execution_count": 87,
      "metadata": {},
      "outputs": [
        {
          "name": "stdout",
          "output_type": "stream",
          "text": [
            "110\n"
          ]
        }
      ],
      "source": [
        "class Car:\n",
        "    def __init__(self, color, __speed):\n",
        "        self.color = color\n",
        "        self.__speed = __speed\n",
        "    \n",
        "    def accelerate(self): \n",
        "        self.__speed += 10\n",
        "        return self.__speed\n",
        "    def get_speed(self):\n",
        "        return self.__speed\n",
        "    \n",
        "car = Car(\"blue\", 100)\n",
        "print(car.accelerate())\n"
      ]
    },
    {
      "cell_type": "code",
      "execution_count": null,
      "metadata": {},
      "outputs": [],
      "source": []
    }
  ],
  "metadata": {
    "colab": {
      "provenance": []
    },
    "kernelspec": {
      "display_name": "base",
      "language": "python",
      "name": "python3"
    },
    "language_info": {
      "codemirror_mode": {
        "name": "ipython",
        "version": 3
      },
      "file_extension": ".py",
      "mimetype": "text/x-python",
      "name": "python",
      "nbconvert_exporter": "python",
      "pygments_lexer": "ipython3",
      "version": "3.11.5"
    }
  },
  "nbformat": 4,
  "nbformat_minor": 0
}
