{
  "cells": [
    {
      "cell_type": "markdown",
      "metadata": {
        "id": "Im6C6hMpIAh_"
      },
      "source": [
        "# Python Basics II Exercises\n",
        "\n",
        "\n",
        "## EX 1 - Data Structures\n",
        "\n",
        "**Strings**:\n",
        "   1. Write a function to count the number of vowels in a given string.\n",
        "   2. Write a function that takes a string and returns the same string but with every second letter capitalized.\n",
        "\n",
        "**List**:\n",
        "   3. Write a function that takes a list of numbers and returns a new list containing only the even numbers.\n",
        "   4. Write a function that takes a list and returns a new list with duplicate values removed.\n",
        "\n",
        "**Set**:\n",
        "   5. Write a function that takes two sets and returns their intersection as a new set.\n",
        "   6. Write a function that takes two sets and returns their union as a new set.\n",
        "\n",
        "**Tuple**:\n",
        "   7. Write a function that takes a list of tuples and sorts them based on the second element of each tuple.\n",
        "   8. Write a function that takes a tuple and returns a reversed version of that tuple.\n",
        "\n",
        "**Dictionary**:\n",
        "   9. Write a function that takes a dictionary and returns the keys and values as separate lists.\n",
        "   10. Write a function that takes a dictionary and a key, and if the key exists in the dictionary, return its value. If the key does not exist, return a default value.\n",
        "\n",
        "## EX 2 - Conditional Statements, Loops, and Functions\n",
        "\n",
        "**Task 1:** Write a program that takes two numbers as inputs from the user and prints their sum.\n",
        "\n",
        "**Task 2:** Write a program that takes an integer input from the user. Use a `for` loop to print all numbers from that integer down to 0.\n",
        "\n",
        "**Task 3:** Write a program that takes an integer input from the user. Use a `while` loop to keep doubling the number until it is greater than 1000, then print the result.\n",
        "\n",
        "**Task 4:** Write a function that takes a number as input and returns the square of the number. Use it in a program that takes an input from the user and prints the square.\n",
        "\n",
        "**Task 5:** Write a program that takes a number as input from the user. If the number is greater than 10, print \"Big number\". If the number is less than or equal to 10, print \"Small number\".\n",
        "\n",
        "**Task 6:** Write a function that takes two numbers as inputs and returns their product. Use this function in a program that takes two inputs from the user and prints the product.\n",
        "\n",
        "**Task 7:** Write a program that uses a `while` loop to take a number as input from the user, subtract 5, and print the result. Continue this until the result is less than 0.\n",
        "\n",
        "**Task 8:** Write a program that uses a `for` loop to take an integer input from the user and print the factorial of that number.\n",
        "\n",
        "**Task 9:** Write a program that takes a number as input from the user. If the number is positive, print \"Positive\". If the number is negative, print \"Negative\". If the number is zero, print \"Zero\".\n",
        "\n",
        "**Task 10:** Write a lambda function that takes two numbers as inputs and returns their division as a floating-point number. Use this function in a program that takes two inputs from the user and prints the division.\n",
        "\n",
        "***\n",
        "\n",
        "**P.S. ALL CODE MUST BE CLEAN, READABLE, WELL EXPLAINED, AND FOLLOWS THE PEP 8 STYLE GUIDE.**\n",
        "\n",
        "Happy coding!!"
      ]
    },
    {
      "cell_type": "markdown",
      "metadata": {},
      "source": [
        "**Strings**:\n",
        "   1. Write a function to count the number of vowels in a given string.\n",
        "   2. Write a function that takes a string and returns the same string but with every second letter capitalized.\n"
      ]
    },
    {
      "cell_type": "code",
      "execution_count": 74,
      "metadata": {},
      "outputs": [
        {
          "name": "stdout",
          "output_type": "stream",
          "text": [
            "7\n"
          ]
        }
      ],
      "source": [
        "# 1. Write a function to count the number of vowels in a given string.\n",
        "\n",
        "def vowel_count(i):\n",
        "    vowels = \"aeiouAEIOU\"\n",
        "    count = 0\n",
        "    for char in i:\n",
        "        if char in vowels:\n",
        "            count += 1\n",
        "    return count\n",
        "\n",
        "titin = \"methionylthreonylthreon\"\n",
        "\n",
        "print(vowel_count(titin))"
      ]
    },
    {
      "cell_type": "code",
      "execution_count": 78,
      "metadata": {},
      "outputs": [
        {
          "name": "stdout",
          "output_type": "stream",
          "text": [
            "hElLo wOrLd\n"
          ]
        }
      ],
      "source": [
        "# 2. Write a function that takes a string and returns the same string but with every second letter capitalized.\n",
        "def capital():\n",
        "    result = \"\"\n",
        "    for i in range(len(greeting)):\n",
        "        if i % 2 == 0:\n",
        "            result += greeting[i].lower()\n",
        "        else:\n",
        "            result += greeting[i].upper()\n",
        "    return result\n",
        "greeting = \"hello world\"\n",
        "print(capital())"
      ]
    },
    {
      "cell_type": "code",
      "execution_count": 79,
      "metadata": {},
      "outputs": [
        {
          "name": "stdout",
          "output_type": "stream",
          "text": [
            "[2, 4, 6]\n"
          ]
        }
      ],
      "source": [
        "# 3. Write a function that takes a list of numbers and returns a new list containing only the even numbers.\n",
        "def even():\n",
        "    numbers = [1,2,3,4,5,6,7]\n",
        "    even_list = []\n",
        "    for i in numbers:\n",
        "       if (i % 2 == 0):\n",
        "          even_list.append(i)\n",
        "    return even_list\n",
        "       \n",
        "\n",
        "print(even())       "
      ]
    },
    {
      "cell_type": "code",
      "execution_count": null,
      "metadata": {},
      "outputs": [
        {
          "name": "stdout",
          "output_type": "stream",
          "text": [
            "[1, 2, 3, 4, 5]\n"
          ]
        }
      ],
      "source": [
        "# 4. Write a function that takes a list and returns a new list with duplicate values removed.\n",
        "def dup():\n",
        "  list_1 = [1,2,3,4,4,1,2,3,5]\n",
        "  list_2 = []\n",
        "\n",
        "  listToSet = set()\n",
        "\n",
        "  for i in list_1:\n",
        "   if i not in listToSet:\n",
        "\n",
        "    list_2.append(i)\n",
        "    listToSet.add(i)\n",
        "\n",
        "  return list_2\n",
        "\n",
        "print(dup())"
      ]
    },
    {
      "cell_type": "code",
      "execution_count": null,
      "metadata": {},
      "outputs": [
        {
          "name": "stdout",
          "output_type": "stream",
          "text": [
            "{2, 4}\n"
          ]
        }
      ],
      "source": [
        "#5. Write a function that takes two sets and returns their intersection as a new set.\n",
        "def intersection():\n",
        " set_1 = {1,2,3,4}\n",
        " set_2 = {2,4,6}\n",
        " set_3 = set_1.intersection(set_2)\n",
        " return set_3\n",
        "\n",
        "print(intersection())\n"
      ]
    },
    {
      "cell_type": "code",
      "execution_count": null,
      "metadata": {},
      "outputs": [
        {
          "name": "stdout",
          "output_type": "stream",
          "text": [
            "{1, 2, 3, 4, 6}\n"
          ]
        }
      ],
      "source": [
        "#6. Write a function that takes two sets and returns their union as a new set.\n",
        "def union():\n",
        " set_1 = {1,2,3,4}\n",
        " set_2 = {2,4,6}\n",
        " set_3 = set_1.union(set_2)\n",
        " return set_3\n",
        "\n",
        "print(union())\n"
      ]
    },
    {
      "cell_type": "code",
      "execution_count": null,
      "metadata": {},
      "outputs": [
        {
          "name": "stdout",
          "output_type": "stream",
          "text": [
            "[(2, 1), (1, 3), (3, 8), (5, 9)]\n"
          ]
        }
      ],
      "source": [
        "#7. Write a function that takes a list of tuples and returns a new list sorted by the second element of each tuple.\n",
        "def mytyple():\n",
        "   list_of_tuples = [(1,3), (2,1), (3,8), (5,9)]\n",
        "   sorted_list = sorted(list_of_tuples, key=lambda item: item[1])\n",
        "   \n",
        "   return sorted_list\n",
        "print(mytyple())\n",
        "\n"
      ]
    },
    {
      "cell_type": "code",
      "execution_count": null,
      "metadata": {},
      "outputs": [
        {
          "name": "stdout",
          "output_type": "stream",
          "text": [
            "('yellow', 'blue', 'green', 'red')\n"
          ]
        }
      ],
      "source": [
        "# 8. Write a function that takes a tuple and returns a new tuple with the elements in reverse order.\n",
        "def reversed_tuple():\n",
        "    colors = (\"red\", \"green\", \"blue\", \"yellow\")\n",
        "    reversed_colors = tuple(reversed(colors))\n",
        "    return reversed_colors                      \n",
        " \n",
        "print(reversed_tuple())\n",
        "\n"
      ]
    },
    {
      "cell_type": "code",
      "execution_count": null,
      "metadata": {},
      "outputs": [
        {
          "name": "stdout",
          "output_type": "stream",
          "text": [
            "['coffee', 'tea', 'juice', 'water', 'soda']\n",
            "[2.5, 1.5, 3.0, 1.0, 2.0]\n"
          ]
        }
      ],
      "source": [
        "# 9. Write a function that takes a dictionary and returns a list of its keys and values as separate lists.\n",
        "\n",
        "drinks = {\n",
        "    \"coffee\": 2.5,\n",
        "    \"tea\": 1.5,\n",
        "    \"juice\": 3.0,\n",
        "    \"water\": 1.0,\n",
        "    \"soda\": 2.0\n",
        "    }\n",
        "def seperated_lists():\n",
        " keys = drinks.keys()\n",
        " values = drinks.values()\n",
        " return keys, values\n",
        "print(list(keys))\n",
        "print(list(values))\n",
        "\n"
      ]
    },
    {
      "cell_type": "code",
      "execution_count": null,
      "metadata": {},
      "outputs": [
        {
          "name": "stdout",
          "output_type": "stream",
          "text": [
            "This phone isn't available\n"
          ]
        }
      ],
      "source": [
        "# 10. Write a function that takes a dictionary and a key, and if the key exists in the dictionary, return its value. If the key does not exist, return a default value.\n",
        "smartphones = {\n",
        "    \"iPhone\": 1000,\n",
        "    \"Galaxy\": 900,\n",
        "    \"Pixel\": 800,\n",
        "    \"OnePlus\": 700,\n",
        "    \"Xiaomi\": 600   \n",
        "}\n",
        "def dictionary_and_key(smartphones, phone):\n",
        "    if phone in smartphones:\n",
        "      value = smartphones.pop(phone)\n",
        "      return value\n",
        "    else: return \"This phone isn't available\"\n",
        "phone = input(\"pick a phone\") \n",
        "print(dictionary_and_key(smartphones, phone))\n"
      ]
    },
    {
      "cell_type": "code",
      "execution_count": null,
      "metadata": {},
      "outputs": [
        {
          "name": "stdout",
          "output_type": "stream",
          "text": [
            "7\n"
          ]
        }
      ],
      "source": [
        "# **Task 1:** Write a program that takes two numbers as inputs from the user and prints their sum.\n",
        "\n",
        "x = int(input(\"enter the first number\"))\n",
        "y = int(input(\"enter the second number\"))\n",
        "z = x + y\n",
        "print(z)"
      ]
    },
    {
      "cell_type": "code",
      "execution_count": null,
      "metadata": {},
      "outputs": [
        {
          "name": "stdout",
          "output_type": "stream",
          "text": [
            "7\n",
            "6\n",
            "5\n",
            "4\n",
            "3\n",
            "2\n",
            "1\n",
            "0\n"
          ]
        }
      ],
      "source": [
        "# **Task 2:** Write a program that takes an integer input from the user. Use a `for` loop to print all numbers from that integer down to 0.\n",
        "number = int(input(\"type a number\"))\n",
        "for i in range(number, -1, -1):\n",
        " print(i)"
      ]
    },
    {
      "cell_type": "code",
      "execution_count": null,
      "metadata": {},
      "outputs": [
        {
          "name": "stdout",
          "output_type": "stream",
          "text": [
            "3\n",
            "6\n",
            "12\n",
            "24\n",
            "48\n",
            "96\n",
            "192\n",
            "384\n",
            "768\n"
          ]
        }
      ],
      "source": [
        "# **Task 3:** Write a program that takes an integer input from the user. Use a `while` loop to keep doubling the number until it is greater than 1000, then print the result.\n",
        "number = int(input())\n",
        "while number < 1000:\n",
        " print(number)\n",
        " number =number*2"
      ]
    },
    {
      "cell_type": "code",
      "execution_count": 85,
      "metadata": {},
      "outputs": [
        {
          "name": "stdout",
          "output_type": "stream",
          "text": [
            "16\n"
          ]
        }
      ],
      "source": [
        "# **Task 4:** Write a function that takes a number as input and returns the square of the number. Use it in a program that takes an input from the user and prints the square.\n",
        "\n",
        "number = int(input())\n",
        "square = number ** 2\n",
        "print(square)"
      ]
    },
    {
      "cell_type": "code",
      "execution_count": null,
      "metadata": {},
      "outputs": [
        {
          "name": "stdout",
          "output_type": "stream",
          "text": [
            "small number\n"
          ]
        }
      ],
      "source": [
        "# **Task 5:** Write a program that takes a number as input from the user. If the number is greater than 10, print \"Big number\". If the number is less than or equal to 10, print \"Small number\".\n",
        "number = int(input(\"enter a number\"))\n",
        "if (number > 10):\n",
        "    print(\"big number\")\n",
        "else: \n",
        "    print(\"small number\")"
      ]
    },
    {
      "cell_type": "code",
      "execution_count": null,
      "metadata": {},
      "outputs": [],
      "source": [
        "# **Task 6:** Write a function that takes two numbers as inputs and returns their product. Use this function in a program that takes two inputs from the user and prints the product.\n",
        "x = int(input(\"enter the first number\"))"
      ]
    },
    {
      "cell_type": "code",
      "execution_count": 54,
      "metadata": {},
      "outputs": [
        {
          "name": "stdout",
          "output_type": "stream",
          "text": [
            "94\n",
            "89\n",
            "84\n",
            "79\n",
            "74\n",
            "69\n",
            "64\n",
            "59\n",
            "54\n",
            "49\n",
            "44\n",
            "39\n",
            "34\n",
            "29\n",
            "24\n",
            "19\n",
            "14\n",
            "9\n",
            "4\n",
            "-1\n"
          ]
        }
      ],
      "source": [
        "# **Task 7:** Write a program that uses a `while` loop to take a number as input from the user, subtract 5, and print the result. Continue this until the result is less than 0.\n",
        "number = int(input())\n",
        "while  number > 0:\n",
        "    number = number - 5\n",
        "    print(number)\n"
      ]
    },
    {
      "cell_type": "code",
      "execution_count": 58,
      "metadata": {},
      "outputs": [
        {
          "name": "stdout",
          "output_type": "stream",
          "text": [
            "3628800\n"
          ]
        }
      ],
      "source": [
        "# **Task 8:** Write a program that uses a `for` loop to take an integer input from the user and print the factorial of that number.\n",
        "number = int(input())\n",
        "factorial = 1\n",
        "for i in range (1, number+1):\n",
        "    factorial *= i\n",
        "print(factorial)\n"
      ]
    },
    {
      "cell_type": "code",
      "execution_count": null,
      "metadata": {},
      "outputs": [
        {
          "name": "stdout",
          "output_type": "stream",
          "text": [
            "negative\n"
          ]
        }
      ],
      "source": [
        "# **Task 9:** Write a program that takes a number as input from the user. If the number is positive, print \"Positive\". If the number is negative, print \"Negative\". If the number is zero, print \"Zero\".\n",
        "number = int(input())\n",
        "\n",
        "if (number > 0):\n",
        "    print(\"positive\")\n",
        "\n",
        "elif (number < 0):\n",
        "    print(\"negative\")\n",
        "    \n",
        "elif (number == 0):\n",
        "    print(\"zero\")"
      ]
    },
    {
      "cell_type": "code",
      "execution_count": null,
      "metadata": {},
      "outputs": [
        {
          "name": "stdout",
          "output_type": "stream",
          "text": [
            "0.3333333333333333\n"
          ]
        }
      ],
      "source": [
        "# **Task 10:** Write a lambda function that takes two numbers as inputs and returns their division as a floating-point number. Use this function in a program that takes two inputs from the user and prints the division.\n",
        "num_1 = float(input())\n",
        "num_2 = float(input())\n",
        "\n",
        "div = lambda num_1, num_2 : num_1 / num_2\n",
        "\n",
        "result = div(num_1, num_2)\n",
        "print(result)"
      ]
    }
  ],
  "metadata": {
    "colab": {
      "provenance": []
    },
    "kernelspec": {
      "display_name": "base",
      "language": "python",
      "name": "python3"
    },
    "language_info": {
      "codemirror_mode": {
        "name": "ipython",
        "version": 3
      },
      "file_extension": ".py",
      "mimetype": "text/x-python",
      "name": "python",
      "nbconvert_exporter": "python",
      "pygments_lexer": "ipython3",
      "version": "3.11.5"
    }
  },
  "nbformat": 4,
  "nbformat_minor": 0
}
